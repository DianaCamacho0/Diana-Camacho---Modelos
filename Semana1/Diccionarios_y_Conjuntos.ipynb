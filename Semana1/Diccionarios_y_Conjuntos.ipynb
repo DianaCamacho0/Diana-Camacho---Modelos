{
  "cells": [
    {
      "cell_type": "markdown",
      "metadata": {
        "id": "view-in-github",
        "colab_type": "text"
      },
      "source": [
        "<a href=\"https://colab.research.google.com/github/DianaCamacho0/Diana-Camacho---Modelos/blob/main/Semana1/Diccionarios_y_Conjuntos.ipynb\" target=\"_parent\"><img src=\"https://colab.research.google.com/assets/colab-badge.svg\" alt=\"Open In Colab\"/></a>"
      ]
    },
    {
      "cell_type": "markdown",
      "metadata": {
        "id": "7tyNHF5mLsgt"
      },
      "source": [
        "# Diccionarios\n",
        "\n",
        "Así como en una lista los valores están indexados por su posición, en un diccionario los valores van a estar indexados por sus llaves. La sintaxis de un diccionario es:\n",
        "\n",
        "```nombre_dict = { key1: value1, key2: value2}```:"
      ]
    },
    {
      "cell_type": "code",
      "execution_count": 1,
      "metadata": {
        "colab": {
          "base_uri": "https://localhost:8080/"
        },
        "id": "cIR1xjV4Lsgy",
        "outputId": "afb43175-9941-4257-9d12-f5adf0ec8239"
      },
      "outputs": [
        {
          "output_type": "stream",
          "name": "stdout",
          "text": [
            "{'edad': 40, 'genero': 'Masculino', 'nombre': 'JuanSalvador', 'apellido': 'Gaviota'}\n"
          ]
        }
      ],
      "source": [
        "datos = {\"edad\": 40, \"genero\": 'Masculino', \"nombre\": 'JuanSalvador', \"apellido\": 'Gaviota'}\n",
        "print(datos)"
      ]
    },
    {
      "cell_type": "code",
      "source": [
        "dicc = dict()\n",
        "dicc"
      ],
      "metadata": {
        "colab": {
          "base_uri": "https://localhost:8080/"
        },
        "id": "hicL2N2N1ATI",
        "outputId": "b5949d7d-d8f0-4b5c-b375-bfa8dc1a8890"
      },
      "execution_count": 2,
      "outputs": [
        {
          "output_type": "execute_result",
          "data": {
            "text/plain": [
              "{}"
            ]
          },
          "metadata": {},
          "execution_count": 2
        }
      ]
    },
    {
      "cell_type": "code",
      "execution_count": 3,
      "metadata": {
        "colab": {
          "base_uri": "https://localhost:8080/"
        },
        "id": "hz_5dCq9Lsg1",
        "outputId": "2d0abd6d-1568-4a05-a0c6-2898cee8dce6"
      },
      "outputs": [
        {
          "output_type": "stream",
          "name": "stdout",
          "text": [
            "{22: 'SSH', 23: 'Telnet', 80: 'HTTP', 3306: 'MySQL'}\n"
          ]
        }
      ],
      "source": [
        "puertos = { 22: 'SSH', 23: 'Telnet', 80: 'HTTP', 3306: 'MySQL'}\n",
        "print(puertos)"
      ]
    },
    {
      "cell_type": "markdown",
      "metadata": {
        "id": "2bJNCAYULsg2"
      },
      "source": [
        "Cada pareja llave valor es considerada un ítem. La llave y el valor están separados por ```:```, cada ítem está separado por comas ```,``` y los items están rodeados por llaves ```{``` ```}```. Un diccionario vacío puede crearse así: ```{}```. Las características clave de un diccionario son:\n",
        "\n",
        "- La llave de un ítem no puede ser cambiada\n",
        "- Un string, int, o float puede ser usado como llave.\n",
        "- Una tupla que no contenga listas puede ser usada como llave.\n",
        "- Las llaves son únicas.\n",
        "- Los valores pueden ser cualquier tipo de dato.\n",
        "- Los valores pueden estar repetidos.\n",
        "- Los valores pueden ser cambiados.\n",
        "- Un diccionario es una colección desordenada (el orden en el que se ingresen los datos es independiente de la forma en la que se almacenan en la estructura de datos).\n"
      ]
    },
    {
      "cell_type": "markdown",
      "metadata": {
        "id": "reXmlvTiLsg3"
      },
      "source": [
        "## Unir diccionarios\n",
        "\n",
        "Es posible añadir las llaves de un diccionario en otro diccionario con ```update```:\n",
        "\n"
      ]
    },
    {
      "cell_type": "code",
      "execution_count": 4,
      "metadata": {
        "colab": {
          "base_uri": "https://localhost:8080/"
        },
        "id": "Q2v8voRTLsg3",
        "outputId": "e79f559e-dea8-43b9-d2a4-9c90532efd39"
      },
      "outputs": [
        {
          "output_type": "stream",
          "name": "stdout",
          "text": [
            "{22: 'SSH', 23: 'telnet', 80: 'Http', 53: 'DNS', 443: 'https'}\n"
          ]
        }
      ],
      "source": [
        "dict_ports1 = {22: \"SSH\", 23: \"telnet\", 80: \"Http\"}\n",
        "dict_ports2 = {53 :\"DNS\", 443 : \"https\"}\n",
        "dict_ports1.update(dict_ports2)\n",
        "print(dict_ports1)"
      ]
    },
    {
      "cell_type": "markdown",
      "metadata": {
        "id": "Ha-3keOaLsg4"
      },
      "source": [
        "## Comparar\n",
        "\n",
        "Se usa los operadores convencionales `==`y `!=` para comparar diccionarios. Se mira si los diccionarios tienen los mismos ítems. Para el programa"
      ]
    },
    {
      "cell_type": "code",
      "execution_count": 5,
      "metadata": {
        "colab": {
          "base_uri": "https://localhost:8080/"
        },
        "id": "lTvABAu_Lsg4",
        "outputId": "d16ae526-7d96-4471-9517-4057e45367a9"
      },
      "outputs": [
        {
          "output_type": "stream",
          "name": "stdout",
          "text": [
            "True\n",
            "True\n",
            "False\n"
          ]
        }
      ],
      "source": [
        "a = {123:'Rojas', 87:'Rosas'} == {87:'Rosas', 123:\"Rojas\"}\n",
        "print(a)\n",
        "print({'Rosas':123} != {'rosas':123} )\n",
        "b =  {123:'Rosas', 87:'rojas'} == {'Rosas':123, 87:'rojas'}\n",
        "print(b)"
      ]
    },
    {
      "cell_type": "markdown",
      "metadata": {
        "id": "oQKYdeDULsg5"
      },
      "source": [
        "## Comparar (is)\n",
        "\n",
        "Se puede usar el operador `is` para determinar si dos diccionarios son elmismo (referencian al mismo objeto)."
      ]
    },
    {
      "cell_type": "code",
      "execution_count": 6,
      "metadata": {
        "colab": {
          "base_uri": "https://localhost:8080/"
        },
        "id": "jnYBe1SbLsg6",
        "outputId": "4e9ab2be-86d5-40cb-d02d-41addda3deb2"
      },
      "outputs": [
        {
          "output_type": "stream",
          "name": "stdout",
          "text": [
            "True\n",
            "False\n",
            "True\n",
            "True\n"
          ]
        }
      ],
      "source": [
        "a = {123:'Rojas', 87:'rosas'}\n",
        "b = {87:'rosas', 123:'Rojas'}\n",
        "c = a\n",
        "print( a == b )\n",
        "print( a is b )\n",
        "print( a == c )\n",
        "print( a is c )"
      ]
    },
    {
      "cell_type": "markdown",
      "metadata": {
        "id": "rRxqYAwuLsg6"
      },
      "source": [
        "## Accediendo a un valor\n",
        "\n",
        "Para acceder a un valor en un diccionario es necesario tener la llave."
      ]
    },
    {
      "cell_type": "code",
      "execution_count": 7,
      "metadata": {
        "id": "qmX2TPrsLsg7"
      },
      "outputs": [],
      "source": [
        "puertos = { 22: 'SSH', 23: 'Telnet', 80: 'HTTP', 3306: 'MySQL'}"
      ]
    },
    {
      "cell_type": "markdown",
      "metadata": {
        "id": "9gjogHcPLsg7"
      },
      "source": [
        "Para obtener el nombre del protocolo correspondiente al puerto 22 se puede hacer lo siguiente:"
      ]
    },
    {
      "cell_type": "code",
      "execution_count": 8,
      "metadata": {
        "colab": {
          "base_uri": "https://localhost:8080/"
        },
        "id": "MVGhFI3-Lsg7",
        "outputId": "2a866616-243c-48e3-8f95-4aeb4d3395a5"
      },
      "outputs": [
        {
          "output_type": "stream",
          "name": "stdout",
          "text": [
            "SSH\n"
          ]
        }
      ],
      "source": [
        "protocol = puertos[22]\n",
        "print(protocol)"
      ]
    },
    {
      "cell_type": "code",
      "execution_count": 9,
      "metadata": {
        "colab": {
          "base_uri": "https://localhost:8080/",
          "height": 35
        },
        "id": "ciGrAsvoLsg8",
        "outputId": "13479f26-231a-47f0-d2cb-3641938f035a"
      },
      "outputs": [
        {
          "output_type": "execute_result",
          "data": {
            "text/plain": [
              "'MySQL'"
            ],
            "application/vnd.google.colaboratory.intrinsic+json": {
              "type": "string"
            }
          },
          "metadata": {},
          "execution_count": 9
        }
      ],
      "source": [
        "puertos[3306]"
      ]
    },
    {
      "cell_type": "markdown",
      "metadata": {
        "id": "dAHyuHpTLsg8"
      },
      "source": [
        "Si la llave no está se produce un ```KeyError```:"
      ]
    },
    {
      "cell_type": "code",
      "execution_count": 10,
      "metadata": {
        "colab": {
          "base_uri": "https://localhost:8080/",
          "height": 141
        },
        "id": "F_x27UlaLsg8",
        "outputId": "ce29bfc3-18e5-4f37-fb75-26756053d051"
      },
      "outputs": [
        {
          "output_type": "error",
          "ename": "KeyError",
          "evalue": "443",
          "traceback": [
            "\u001b[0;31m---------------------------------------------------------------------------\u001b[0m",
            "\u001b[0;31mKeyError\u001b[0m                                  Traceback (most recent call last)",
            "\u001b[0;32m<ipython-input-10-b7ffcde03a52>\u001b[0m in \u001b[0;36m<cell line: 1>\u001b[0;34m()\u001b[0m\n\u001b[0;32m----> 1\u001b[0;31m \u001b[0mpuertos\u001b[0m\u001b[0;34m[\u001b[0m\u001b[0;36m443\u001b[0m\u001b[0;34m]\u001b[0m\u001b[0;34m\u001b[0m\u001b[0;34m\u001b[0m\u001b[0m\n\u001b[0m",
            "\u001b[0;31mKeyError\u001b[0m: 443"
          ]
        }
      ],
      "source": [
        "puertos[443]"
      ]
    },
    {
      "cell_type": "markdown",
      "metadata": {
        "id": "YNStjaegLsg9"
      },
      "source": [
        "## Actualización de valores en un diccionario\n",
        "\n",
        "Para actualizar valores en un diccionario basta con realizar la siguiente asignación:\n",
        "\n",
        "```dict[key] = new_val```\n"
      ]
    },
    {
      "cell_type": "code",
      "execution_count": null,
      "metadata": {
        "id": "gMw1pCOvLsg9"
      },
      "outputs": [],
      "source": [
        "puertos = {80: \"HTTP\", 23 : \"SMTP\", 443 : \"HTTPS\"}\n",
        "print(puertos)\n",
        "puertos[23] = 'Telnet'\n",
        "print(puertos)"
      ]
    },
    {
      "cell_type": "markdown",
      "metadata": {
        "id": "o5MvbIMULsg9"
      },
      "source": [
        "Para añadir un valor se realiza la asignación:\n",
        "\n",
        "```dict[new_key] = new_val```"
      ]
    },
    {
      "cell_type": "code",
      "execution_count": null,
      "metadata": {
        "id": "gYgANC8ILsg-"
      },
      "outputs": [],
      "source": [
        "puertos = {80: \"HTTP\", 23 : \"SMTP\", 443 : \"HTTPS\"}\n",
        "print(puertos)\n",
        "puertos[110] = 'POP'\n",
        "print(puertos)"
      ]
    },
    {
      "cell_type": "markdown",
      "metadata": {
        "id": "G_4fE7KiLsg-"
      },
      "source": [
        "## Eliminación de ítems"
      ]
    },
    {
      "cell_type": "markdown",
      "metadata": {
        "id": "-6ZSrnAVLsg-"
      },
      "source": [
        "Con ```del``` es posible eliminar el diccionario entero o los ítems de un diccionario. Si se desea eliminar un ítem se puede utilizar la siguiente sintaxis:\n",
        "\n",
        "```del dict[key]```"
      ]
    },
    {
      "cell_type": "code",
      "execution_count": null,
      "metadata": {
        "id": "TpWdRAIzLsg-"
      },
      "outputs": [],
      "source": [
        "puertos = { 22: 'SSH', 23: 'Telnet', 80: 'HTTP', 3306: 'MySQL'}\n",
        "print(puertos)\n",
        "del puertos[23]\n",
        "print(puertos)"
      ]
    },
    {
      "cell_type": "markdown",
      "metadata": {
        "id": "4pAI-1nnLsg_"
      },
      "source": [
        "## Consultando un diccionario\n",
        "\n",
        "Para validar la existencia de la llave en un diccionario se puede utilizar el operador ```in```"
      ]
    },
    {
      "cell_type": "code",
      "execution_count": null,
      "metadata": {
        "id": "fWvkWKv6Lsg_"
      },
      "outputs": [],
      "source": [
        "print(80 in puertos)\n",
        "print(222 in puertos)"
      ]
    },
    {
      "cell_type": "markdown",
      "metadata": {
        "id": "duOa12ubLsg_"
      },
      "source": [
        "## Iterando un diccionario\n",
        "\n",
        "Es posible usae el ciclo for y el método items() para obtener los items deun diccionario."
      ]
    },
    {
      "cell_type": "code",
      "execution_count": null,
      "metadata": {
        "id": "FAFmlsiDLsg_"
      },
      "outputs": [],
      "source": [
        "dict_ports = {22: \"SSH\", 23: \"telnet\", 80: \"Http\"}\n",
        "for a,b in dict_ports.items():\n",
        "    print(a,b)"
      ]
    },
    {
      "cell_type": "code",
      "source": [],
      "metadata": {
        "id": "O0mYBfJa3Ik5"
      },
      "execution_count": null,
      "outputs": []
    },
    {
      "cell_type": "markdown",
      "metadata": {
        "id": "45X-eTF1Lsg_"
      },
      "source": [
        "Es posible iterar un diccionario usando el ciclo for para obtener las claves."
      ]
    },
    {
      "cell_type": "code",
      "execution_count": null,
      "metadata": {
        "id": "gHa0YywDLshA"
      },
      "outputs": [],
      "source": [
        "dict_ports = {22: \"SSH\", 23: \"telnet\", 80: \"Http\"}\n",
        "for key in dict_ports:\n",
        "    print(key)"
      ]
    },
    {
      "cell_type": "markdown",
      "metadata": {
        "id": "3SHC6SHbLshA"
      },
      "source": [
        "## Longitud (len)\n",
        "\n",
        "Determina el número de ítems en un diccionario."
      ]
    },
    {
      "cell_type": "markdown",
      "metadata": {
        "id": "Zw3JyX-jLshA"
      },
      "source": [
        "Obtener la cantidad de ítems:"
      ]
    },
    {
      "cell_type": "code",
      "execution_count": null,
      "metadata": {
        "id": "kMBsy8K9LshA"
      },
      "outputs": [],
      "source": [
        "puertos = {80: \"HTTP\", 23 : \"SMTP\", 443 : \"HTTPS\"}\n",
        "len(puertos)"
      ]
    },
    {
      "cell_type": "markdown",
      "metadata": {
        "id": "w_lu6jrbLshB"
      },
      "source": [
        "## Obteniendo valores\n",
        "\n",
        "Para obtener el valor correspondiente a una llave también se puede utilizar ```get```.\n",
        "\n",
        "```dict.get(key, default=None)```"
      ]
    },
    {
      "cell_type": "code",
      "execution_count": null,
      "metadata": {
        "id": "HSAvlsEFLshB"
      },
      "outputs": [],
      "source": [
        "dict1 = {'a':1, 'b':2, 'c':3}\n",
        "dict1.get('a')"
      ]
    },
    {
      "cell_type": "code",
      "execution_count": null,
      "metadata": {
        "id": "muvWdJMBLshB"
      },
      "outputs": [],
      "source": [
        "dict1.get('d', 'llave no encontrada.')"
      ]
    },
    {
      "cell_type": "markdown",
      "metadata": {
        "id": "61VTvtMtLshB"
      },
      "source": [
        "Transformar diccionario en string:"
      ]
    },
    {
      "cell_type": "code",
      "execution_count": null,
      "metadata": {
        "id": "cuLeJeaKLshB"
      },
      "outputs": [],
      "source": [
        "str(puertos)"
      ]
    },
    {
      "cell_type": "markdown",
      "metadata": {
        "id": "nTLQCb4oLshC"
      },
      "source": [
        "## Máximo y mínimo\n",
        "\n",
        "Obtener la llave con el valor máximo ó mínimo:\n"
      ]
    },
    {
      "cell_type": "code",
      "execution_count": null,
      "metadata": {
        "id": "qy2jyumPLshC"
      },
      "outputs": [],
      "source": [
        "puertos = {80: \"HTTP\", 23 : \"SMTP\", 443 : \"HTTPS\"}\n",
        "max(puertos)"
      ]
    },
    {
      "cell_type": "code",
      "execution_count": null,
      "metadata": {
        "id": "QTduvyfSLshC"
      },
      "outputs": [],
      "source": [
        "min(puertos)"
      ]
    },
    {
      "cell_type": "markdown",
      "metadata": {
        "id": "knxWrGPwLshC"
      },
      "source": [
        "## Obtener una lista de llaves\n",
        "\n",
        "Para obtener una lista de las llaves se puede hacer lo siguiente:"
      ]
    },
    {
      "cell_type": "code",
      "execution_count": null,
      "metadata": {
        "id": "GXb1cwTDLshC"
      },
      "outputs": [],
      "source": [
        "dict1 = {'a':1, 'b':2, 'c':3}\n",
        "print(list(dict1.keys()))"
      ]
    },
    {
      "cell_type": "markdown",
      "metadata": {
        "id": "ZKu2iV26LshD"
      },
      "source": [
        "## Obtener una lista de valores\n",
        "\n",
        "Para obtener una lista de los valores:"
      ]
    },
    {
      "cell_type": "code",
      "execution_count": null,
      "metadata": {
        "id": "dawOUvw0LshD"
      },
      "outputs": [],
      "source": [
        "dict1 = {'a':1, 'b':2, 'c':3}\n",
        "print(list(dict1.values()))"
      ]
    },
    {
      "cell_type": "markdown",
      "metadata": {
        "id": "76dQk1PSLshE"
      },
      "source": [
        "## Conversion de listas de listas y listas de tuplas a diccionario\n",
        "\n",
        "Es posible convertir una lista de listas o una lista de tuplas en un diccionario usando ```dict```."
      ]
    },
    {
      "cell_type": "code",
      "execution_count": null,
      "metadata": {
        "id": "nGq3OyqHLshE"
      },
      "outputs": [],
      "source": [
        "puertos = [[80,\"http\"],[20,\"ftp\"],[23,\"telnet\"],[443,\"https\"],[53,\"DNS\"]]\n",
        "d_port = dict(puertos)\n",
        "print(d_port)"
      ]
    },
    {
      "cell_type": "code",
      "execution_count": null,
      "metadata": {
        "id": "8TRnqvADLshE"
      },
      "outputs": [],
      "source": [
        "puertos = [(80,\"http\"),(20,\"ftp\"),(23,\"telnet\"),(443,\"https\"),(53,\"DNS\")]\n",
        "d_port = dict(puertos)\n",
        "print(d_port)"
      ]
    },
    {
      "cell_type": "markdown",
      "metadata": {
        "id": "qvq9CeleLshE"
      },
      "source": [
        "## Eliminar entradas de un diccionario\n",
        "\n",
        "Para eliminar todas las entradas de un diccionario se utiliza ```clear()```:"
      ]
    },
    {
      "cell_type": "code",
      "execution_count": null,
      "metadata": {
        "id": "mMspKrRwLshF"
      },
      "outputs": [],
      "source": [
        "dict_ports = {22: \"SSH\", 23: \"telnet\", 80: \"Http\"}\n",
        "print(dict_ports)\n",
        "dict_ports.clear()\n",
        "print(dict_ports)"
      ]
    },
    {
      "cell_type": "markdown",
      "metadata": {
        "id": "YMrTzmALLshF"
      },
      "source": [
        "## Copiando un diccionario\n",
        "\n",
        "Para obtener la copia de un diccionario se puede utilzar ```dict.copy()```"
      ]
    },
    {
      "cell_type": "code",
      "execution_count": null,
      "metadata": {
        "id": "0xGwqQKPLshF"
      },
      "outputs": [],
      "source": [
        "port = {80: \"HTTP\", 23 : \"SMTP\", 443 : \"HTTPS\"}\n",
        "copy_port = port.copy()\n",
        "false_copy = port"
      ]
    },
    {
      "cell_type": "code",
      "execution_count": null,
      "metadata": {
        "id": "RUNQJZ7TLshF"
      },
      "outputs": [],
      "source": [
        "false_copy is port"
      ]
    },
    {
      "cell_type": "code",
      "execution_count": null,
      "metadata": {
        "id": "3o2wNqsDLshG"
      },
      "outputs": [],
      "source": [
        "copy_port is port"
      ]
    },
    {
      "cell_type": "code",
      "execution_count": null,
      "metadata": {
        "id": "3KxLY23ILshG"
      },
      "outputs": [],
      "source": [
        "print(copy_port)"
      ]
    },
    {
      "cell_type": "markdown",
      "metadata": {
        "id": "tcSuFevjLshG"
      },
      "source": [
        "## Obtener una lista de tuplas de un diccionario\n",
        "\n",
        "Para obtener una lista de tuplas correspondiente al diccionario se utiliza ```items```:"
      ]
    },
    {
      "cell_type": "code",
      "execution_count": null,
      "metadata": {
        "id": "4iKDimsPLshH"
      },
      "outputs": [],
      "source": [
        "dict_ports1 = {22: \"SSH\", 23: \"telnet\", 80: \"Http\"}\n",
        "print(list(dict_ports1.items()))"
      ]
    },
    {
      "cell_type": "markdown",
      "metadata": {
        "id": "qrfsmXf2LshI"
      },
      "source": [
        "### Ejercicio 1\n",
        "\n",
        "Utilizando el diccionario de puertos ```port1 = {21: \"FTP\", 22:\"SSH\", 23: \"telnet\", 80:\n",
        "\"http\"}``` cree un nuevo diccionario donde las llaves se vuelvan valores y los valores llaves: así: ```port2 = {\"FTP\":21, \"SSH\":22, \"telnet\":23, \"http\": 80}```\n",
        "\n"
      ]
    },
    {
      "cell_type": "code",
      "execution_count": 14,
      "metadata": {
        "id": "qn-IfT4mLshI",
        "colab": {
          "base_uri": "https://localhost:8080/"
        },
        "outputId": "881f068f-a759-4c11-dcef-2f1f43320560"
      },
      "outputs": [
        {
          "output_type": "stream",
          "name": "stdout",
          "text": [
            "{'FTP': 21, 'SSH': 22, 'telnet': 23, 'http': 80}\n"
          ]
        }
      ],
      "source": [
        "port1 = {21: \"FTP\", 22:\"SSH\", 23: \"telnet\", 80: \"http\"}\n",
        "\n",
        "port2 = {}\n",
        "\n",
        "for a,b in port1.items():\n",
        "  port2[b] = a\n",
        "\n",
        "\n",
        "print(port2)"
      ]
    },
    {
      "cell_type": "markdown",
      "metadata": {
        "id": "OZ-LgvjTLshJ"
      },
      "source": [
        "### Ejercicio 2: Yendo al mercado\n",
        "\n",
        "Dory quiere ir al mercado a comprar frutas y vegetales.\n",
        "\n",
        "Entrada:\n",
        "La entrada de este problema contiene un diccionario que contiene 5 productos con sus precios respectivos por kg. La siguiente entrada contiene la cantidad de kg que Dory quiere comprar de cada uno.\n",
        "\n",
        "Salida:\n",
        "Muestre el dinero gastado por Dory en el mercado.\n",
        "\n",
        "<table>\n",
        "            uva 2.50<br>\n",
        "            banano 4.00<br>\n",
        "            pera 2.10<br>\n",
        "            granadilla 6.00<br>\n",
        "            naranja 5.00<br>\n",
        "            <br>\n",
        "            uva 10<br>\n",
        "            banano 10<br>\n",
        "            pera 15<br>\n",
        "            granadilla 12<br>\n",
        "            naranja 18<br>\n",
        "        </tr>\n",
        "</table>\n",
        "   \n"
      ]
    },
    {
      "cell_type": "code",
      "source": [
        "precio = {'uva': 2.50, 'banano': 4.00, 'pera': 2.10, 'granadilla': 6.00, 'naranja': 5.00}\n",
        "can  = {'uva': 10, 'banano': 10, 'pera': 15, 'granadilla': 12, 'naranja': 18}\n",
        "total = 0\n",
        "\n",
        "for i,k in precio.items():\n",
        "  for a,b in can.items():\n",
        "    if i == a:\n",
        "      total = k*b+total\n",
        "print(f\"Total mercado: {total}\")\n",
        ""
      ],
      "metadata": {
        "colab": {
          "base_uri": "https://localhost:8080/"
        },
        "id": "_WXTq31bUDWE",
        "outputId": "38ba1f19-e3da-4d83-ed26-95a4a4e0698d"
      },
      "execution_count": 16,
      "outputs": [
        {
          "output_type": "stream",
          "name": "stdout",
          "text": [
            "Total mercado: 258.5\n"
          ]
        }
      ]
    },
    {
      "cell_type": "markdown",
      "source": [
        "# Ejercicio 3\n",
        "\n",
        "Escribir un programa que cree un diccionario de traducción español-inglés. El usuario introducirá las palabras en español e inglés separadas por dos puntos, y cada par `palabra`:`traducción` separados por comas. El programa debe crear un diccionario con las palabras y sus traducciones. Después pedirá una frase en español y utilizará el diccionario para traducirla palabra a palabra. Si una palabra no está en el diccionario debe dejarla sin traducir."
      ],
      "metadata": {
        "id": "AewkA2lK7aQM"
      }
    },
    {
      "cell_type": "code",
      "execution_count": 19,
      "metadata": {
        "id": "Z9ao2Xn5LshJ",
        "colab": {
          "base_uri": "https://localhost:8080/"
        },
        "outputId": "ca698e0a-033a-41d6-d51a-008f39ddf140"
      },
      "outputs": [
        {
          "output_type": "stream",
          "name": "stdout",
          "text": [
            "Ingrese palabra:correr:run\n",
            "Ingrese frase en español:correr\n",
            "run "
          ]
        }
      ],
      "source": [
        "dicc = {}\n",
        "palabra = input(\"Ingrese palabra:\")\n",
        "\n",
        "for i in palabra.split(','):\n",
        "  a, b = i.split(':')\n",
        "  dicc[a] = b\n",
        "frase = input(\"Ingrese frase en español:\")\n",
        "for i in frase.split():\n",
        "  if i in dicc:\n",
        "    print(dicc[i], end=' ')\n",
        "  else:\n",
        "    print(i, end=' ')\n"
      ]
    },
    {
      "cell_type": "markdown",
      "metadata": {
        "id": "hQGtbXIFLshP"
      },
      "source": [
        "### Referencias:\n",
        "\n",
        "Barry, P. (2016). Head First Python: A Brain-Friendly Guide. \" O'Reilly Media, Inc.\".\n",
        "\n",
        "Das, B. N. (2017). Learn Python in 7 Days. Packt Publishing Ltd.\n",
        "\n",
        "https://codeforces.com/\n",
        "\n",
        "Rodríguez, A (2020). Curso de Programación en Python. https://github.com/arleserp/cursopython"
      ]
    },
    {
      "cell_type": "code",
      "execution_count": null,
      "metadata": {
        "id": "q1ClH2ufLshP"
      },
      "outputs": [],
      "source": []
    }
  ],
  "metadata": {
    "kernelspec": {
      "display_name": "Python 3",
      "language": "python",
      "name": "python3"
    },
    "language_info": {
      "codemirror_mode": {
        "name": "ipython",
        "version": 3
      },
      "file_extension": ".py",
      "mimetype": "text/x-python",
      "name": "python",
      "nbconvert_exporter": "python",
      "pygments_lexer": "ipython3",
      "version": "3.7.3"
    },
    "colab": {
      "provenance": [],
      "collapsed_sections": [
        "hQGtbXIFLshP"
      ],
      "include_colab_link": true
    }
  },
  "nbformat": 4,
  "nbformat_minor": 0
}