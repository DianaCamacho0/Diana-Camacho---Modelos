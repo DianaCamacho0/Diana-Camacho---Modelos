{
  "cells": [
    {
      "cell_type": "markdown",
      "metadata": {
        "id": "view-in-github",
        "colab_type": "text"
      },
      "source": [
        "<a href=\"https://colab.research.google.com/github/DianaCamacho0/Diana-Camacho---Modelos/blob/main/Semana1/Ejercicio1_24.ipynb\" target=\"_parent\"><img src=\"https://colab.research.google.com/assets/colab-badge.svg\" alt=\"Open In Colab\"/></a>"
      ]
    },
    {
      "cell_type": "markdown",
      "id": "6bae65f4",
      "metadata": {
        "id": "6bae65f4"
      },
      "source": [
        "# Taller básico pandas - numpy"
      ]
    },
    {
      "cell_type": "code",
      "execution_count": 1,
      "id": "bc1e240c",
      "metadata": {
        "id": "bc1e240c"
      },
      "outputs": [],
      "source": [
        "import pandas as pd"
      ]
    },
    {
      "cell_type": "code",
      "execution_count": 10,
      "id": "fe3e3cc4",
      "metadata": {
        "id": "fe3e3cc4",
        "colab": {
          "base_uri": "https://localhost:8080/"
        },
        "outputId": "113a00b1-8f4d-4d70-9f3b-8d8438cb5bf7"
      },
      "outputs": [
        {
          "output_type": "stream",
          "name": "stdout",
          "text": [
            "           cancion                     artista  duracion\n",
            "0      Uptown Funk  Mark Ronson ft. Bruno Mars       430\n",
            "1  Blinding Lights                Shape of You       320\n",
            "2       Levitating                    Dua Lipa       430\n"
          ]
        }
      ],
      "source": [
        "# Crear un dataframe que tenga 3 registros(filas) cada una debe contener el nombre de una cancion, el artista que la canta, y la duracion en segundos\n",
        "ata = {\n",
        "    'cancion': ['Uptown Funk', 'Blinding Lights', 'Levitating'],\n",
        "    'artista': ['Mark Ronson ft. Bruno Mars', 'Shape of You', 'Dua Lipa'],\n",
        "    'duracion': [430, 320, 430]\n",
        "}\n",
        "df = pd.DataFrame(data)\n",
        "print(df)"
      ]
    },
    {
      "cell_type": "code",
      "execution_count": 12,
      "id": "38d4ed46",
      "metadata": {
        "id": "38d4ed46",
        "colab": {
          "base_uri": "https://localhost:8080/",
          "height": 143
        },
        "outputId": "94f2d8c1-4f93-479a-eabb-240421f829ba"
      },
      "outputs": [
        {
          "output_type": "execute_result",
          "data": {
            "text/plain": [
              "           cancion                     artista  duracion\n",
              "0      Uptown Funk  Mark Ronson ft. Bruno Mars       430\n",
              "1  Blinding Lights                Shape of You       320\n",
              "2       Levitating                    Dua Lipa       430"
            ],
            "text/html": [
              "\n",
              "  <div id=\"df-ce108b50-63e9-4a5b-b832-360b1660ce5b\" class=\"colab-df-container\">\n",
              "    <div>\n",
              "<style scoped>\n",
              "    .dataframe tbody tr th:only-of-type {\n",
              "        vertical-align: middle;\n",
              "    }\n",
              "\n",
              "    .dataframe tbody tr th {\n",
              "        vertical-align: top;\n",
              "    }\n",
              "\n",
              "    .dataframe thead th {\n",
              "        text-align: right;\n",
              "    }\n",
              "</style>\n",
              "<table border=\"1\" class=\"dataframe\">\n",
              "  <thead>\n",
              "    <tr style=\"text-align: right;\">\n",
              "      <th></th>\n",
              "      <th>cancion</th>\n",
              "      <th>artista</th>\n",
              "      <th>duracion</th>\n",
              "    </tr>\n",
              "  </thead>\n",
              "  <tbody>\n",
              "    <tr>\n",
              "      <th>0</th>\n",
              "      <td>Uptown Funk</td>\n",
              "      <td>Mark Ronson ft. Bruno Mars</td>\n",
              "      <td>430</td>\n",
              "    </tr>\n",
              "    <tr>\n",
              "      <th>1</th>\n",
              "      <td>Blinding Lights</td>\n",
              "      <td>Shape of You</td>\n",
              "      <td>320</td>\n",
              "    </tr>\n",
              "    <tr>\n",
              "      <th>2</th>\n",
              "      <td>Levitating</td>\n",
              "      <td>Dua Lipa</td>\n",
              "      <td>430</td>\n",
              "    </tr>\n",
              "  </tbody>\n",
              "</table>\n",
              "</div>\n",
              "    <div class=\"colab-df-buttons\">\n",
              "\n",
              "  <div class=\"colab-df-container\">\n",
              "    <button class=\"colab-df-convert\" onclick=\"convertToInteractive('df-ce108b50-63e9-4a5b-b832-360b1660ce5b')\"\n",
              "            title=\"Convert this dataframe to an interactive table.\"\n",
              "            style=\"display:none;\">\n",
              "\n",
              "  <svg xmlns=\"http://www.w3.org/2000/svg\" height=\"24px\" viewBox=\"0 -960 960 960\">\n",
              "    <path d=\"M120-120v-720h720v720H120Zm60-500h600v-160H180v160Zm220 220h160v-160H400v160Zm0 220h160v-160H400v160ZM180-400h160v-160H180v160Zm440 0h160v-160H620v160ZM180-180h160v-160H180v160Zm440 0h160v-160H620v160Z\"/>\n",
              "  </svg>\n",
              "    </button>\n",
              "\n",
              "  <style>\n",
              "    .colab-df-container {\n",
              "      display:flex;\n",
              "      gap: 12px;\n",
              "    }\n",
              "\n",
              "    .colab-df-convert {\n",
              "      background-color: #E8F0FE;\n",
              "      border: none;\n",
              "      border-radius: 50%;\n",
              "      cursor: pointer;\n",
              "      display: none;\n",
              "      fill: #1967D2;\n",
              "      height: 32px;\n",
              "      padding: 0 0 0 0;\n",
              "      width: 32px;\n",
              "    }\n",
              "\n",
              "    .colab-df-convert:hover {\n",
              "      background-color: #E2EBFA;\n",
              "      box-shadow: 0px 1px 2px rgba(60, 64, 67, 0.3), 0px 1px 3px 1px rgba(60, 64, 67, 0.15);\n",
              "      fill: #174EA6;\n",
              "    }\n",
              "\n",
              "    .colab-df-buttons div {\n",
              "      margin-bottom: 4px;\n",
              "    }\n",
              "\n",
              "    [theme=dark] .colab-df-convert {\n",
              "      background-color: #3B4455;\n",
              "      fill: #D2E3FC;\n",
              "    }\n",
              "\n",
              "    [theme=dark] .colab-df-convert:hover {\n",
              "      background-color: #434B5C;\n",
              "      box-shadow: 0px 1px 3px 1px rgba(0, 0, 0, 0.15);\n",
              "      filter: drop-shadow(0px 1px 2px rgba(0, 0, 0, 0.3));\n",
              "      fill: #FFFFFF;\n",
              "    }\n",
              "  </style>\n",
              "\n",
              "    <script>\n",
              "      const buttonEl =\n",
              "        document.querySelector('#df-ce108b50-63e9-4a5b-b832-360b1660ce5b button.colab-df-convert');\n",
              "      buttonEl.style.display =\n",
              "        google.colab.kernel.accessAllowed ? 'block' : 'none';\n",
              "\n",
              "      async function convertToInteractive(key) {\n",
              "        const element = document.querySelector('#df-ce108b50-63e9-4a5b-b832-360b1660ce5b');\n",
              "        const dataTable =\n",
              "          await google.colab.kernel.invokeFunction('convertToInteractive',\n",
              "                                                    [key], {});\n",
              "        if (!dataTable) return;\n",
              "\n",
              "        const docLinkHtml = 'Like what you see? Visit the ' +\n",
              "          '<a target=\"_blank\" href=https://colab.research.google.com/notebooks/data_table.ipynb>data table notebook</a>'\n",
              "          + ' to learn more about interactive tables.';\n",
              "        element.innerHTML = '';\n",
              "        dataTable['output_type'] = 'display_data';\n",
              "        await google.colab.output.renderOutput(dataTable, element);\n",
              "        const docLink = document.createElement('div');\n",
              "        docLink.innerHTML = docLinkHtml;\n",
              "        element.appendChild(docLink);\n",
              "      }\n",
              "    </script>\n",
              "  </div>\n",
              "\n",
              "\n",
              "<div id=\"df-5e137c0b-f538-4439-a578-15f0d47796bd\">\n",
              "  <button class=\"colab-df-quickchart\" onclick=\"quickchart('df-5e137c0b-f538-4439-a578-15f0d47796bd')\"\n",
              "            title=\"Suggest charts\"\n",
              "            style=\"display:none;\">\n",
              "\n",
              "<svg xmlns=\"http://www.w3.org/2000/svg\" height=\"24px\"viewBox=\"0 0 24 24\"\n",
              "     width=\"24px\">\n",
              "    <g>\n",
              "        <path d=\"M19 3H5c-1.1 0-2 .9-2 2v14c0 1.1.9 2 2 2h14c1.1 0 2-.9 2-2V5c0-1.1-.9-2-2-2zM9 17H7v-7h2v7zm4 0h-2V7h2v10zm4 0h-2v-4h2v4z\"/>\n",
              "    </g>\n",
              "</svg>\n",
              "  </button>\n",
              "\n",
              "<style>\n",
              "  .colab-df-quickchart {\n",
              "      --bg-color: #E8F0FE;\n",
              "      --fill-color: #1967D2;\n",
              "      --hover-bg-color: #E2EBFA;\n",
              "      --hover-fill-color: #174EA6;\n",
              "      --disabled-fill-color: #AAA;\n",
              "      --disabled-bg-color: #DDD;\n",
              "  }\n",
              "\n",
              "  [theme=dark] .colab-df-quickchart {\n",
              "      --bg-color: #3B4455;\n",
              "      --fill-color: #D2E3FC;\n",
              "      --hover-bg-color: #434B5C;\n",
              "      --hover-fill-color: #FFFFFF;\n",
              "      --disabled-bg-color: #3B4455;\n",
              "      --disabled-fill-color: #666;\n",
              "  }\n",
              "\n",
              "  .colab-df-quickchart {\n",
              "    background-color: var(--bg-color);\n",
              "    border: none;\n",
              "    border-radius: 50%;\n",
              "    cursor: pointer;\n",
              "    display: none;\n",
              "    fill: var(--fill-color);\n",
              "    height: 32px;\n",
              "    padding: 0;\n",
              "    width: 32px;\n",
              "  }\n",
              "\n",
              "  .colab-df-quickchart:hover {\n",
              "    background-color: var(--hover-bg-color);\n",
              "    box-shadow: 0 1px 2px rgba(60, 64, 67, 0.3), 0 1px 3px 1px rgba(60, 64, 67, 0.15);\n",
              "    fill: var(--button-hover-fill-color);\n",
              "  }\n",
              "\n",
              "  .colab-df-quickchart-complete:disabled,\n",
              "  .colab-df-quickchart-complete:disabled:hover {\n",
              "    background-color: var(--disabled-bg-color);\n",
              "    fill: var(--disabled-fill-color);\n",
              "    box-shadow: none;\n",
              "  }\n",
              "\n",
              "  .colab-df-spinner {\n",
              "    border: 2px solid var(--fill-color);\n",
              "    border-color: transparent;\n",
              "    border-bottom-color: var(--fill-color);\n",
              "    animation:\n",
              "      spin 1s steps(1) infinite;\n",
              "  }\n",
              "\n",
              "  @keyframes spin {\n",
              "    0% {\n",
              "      border-color: transparent;\n",
              "      border-bottom-color: var(--fill-color);\n",
              "      border-left-color: var(--fill-color);\n",
              "    }\n",
              "    20% {\n",
              "      border-color: transparent;\n",
              "      border-left-color: var(--fill-color);\n",
              "      border-top-color: var(--fill-color);\n",
              "    }\n",
              "    30% {\n",
              "      border-color: transparent;\n",
              "      border-left-color: var(--fill-color);\n",
              "      border-top-color: var(--fill-color);\n",
              "      border-right-color: var(--fill-color);\n",
              "    }\n",
              "    40% {\n",
              "      border-color: transparent;\n",
              "      border-right-color: var(--fill-color);\n",
              "      border-top-color: var(--fill-color);\n",
              "    }\n",
              "    60% {\n",
              "      border-color: transparent;\n",
              "      border-right-color: var(--fill-color);\n",
              "    }\n",
              "    80% {\n",
              "      border-color: transparent;\n",
              "      border-right-color: var(--fill-color);\n",
              "      border-bottom-color: var(--fill-color);\n",
              "    }\n",
              "    90% {\n",
              "      border-color: transparent;\n",
              "      border-bottom-color: var(--fill-color);\n",
              "    }\n",
              "  }\n",
              "</style>\n",
              "\n",
              "  <script>\n",
              "    async function quickchart(key) {\n",
              "      const quickchartButtonEl =\n",
              "        document.querySelector('#' + key + ' button');\n",
              "      quickchartButtonEl.disabled = true;  // To prevent multiple clicks.\n",
              "      quickchartButtonEl.classList.add('colab-df-spinner');\n",
              "      try {\n",
              "        const charts = await google.colab.kernel.invokeFunction(\n",
              "            'suggestCharts', [key], {});\n",
              "      } catch (error) {\n",
              "        console.error('Error during call to suggestCharts:', error);\n",
              "      }\n",
              "      quickchartButtonEl.classList.remove('colab-df-spinner');\n",
              "      quickchartButtonEl.classList.add('colab-df-quickchart-complete');\n",
              "    }\n",
              "    (() => {\n",
              "      let quickchartButtonEl =\n",
              "        document.querySelector('#df-5e137c0b-f538-4439-a578-15f0d47796bd button');\n",
              "      quickchartButtonEl.style.display =\n",
              "        google.colab.kernel.accessAllowed ? 'block' : 'none';\n",
              "    })();\n",
              "  </script>\n",
              "</div>\n",
              "\n",
              "    </div>\n",
              "  </div>\n"
            ],
            "application/vnd.google.colaboratory.intrinsic+json": {
              "type": "dataframe",
              "summary": "{\n  \"name\": \"df\",\n  \"rows\": 3,\n  \"fields\": [\n    {\n      \"column\": \"cancion\",\n      \"properties\": {\n        \"dtype\": \"string\",\n        \"num_unique_values\": 3,\n        \"samples\": [\n          \"Uptown Funk\",\n          \"Blinding Lights\",\n          \"Levitating\"\n        ],\n        \"semantic_type\": \"\",\n        \"description\": \"\"\n      }\n    },\n    {\n      \"column\": \"artista\",\n      \"properties\": {\n        \"dtype\": \"string\",\n        \"num_unique_values\": 3,\n        \"samples\": [\n          \"Mark Ronson ft. Bruno Mars\",\n          \"Shape of You\",\n          \"Dua Lipa\"\n        ],\n        \"semantic_type\": \"\",\n        \"description\": \"\"\n      }\n    },\n    {\n      \"column\": \"duracion\",\n      \"properties\": {\n        \"dtype\": \"number\",\n        \"std\": 63,\n        \"min\": 320,\n        \"max\": 430,\n        \"num_unique_values\": 2,\n        \"samples\": [\n          320,\n          430\n        ],\n        \"semantic_type\": \"\",\n        \"description\": \"\"\n      }\n    }\n  ]\n}"
            }
          },
          "metadata": {},
          "execution_count": 12
        }
      ],
      "source": [
        "# Imprimir la cola del dataframe\n",
        "df.tail()\n"
      ]
    },
    {
      "cell_type": "code",
      "execution_count": 13,
      "id": "79ccb7d9",
      "metadata": {
        "id": "79ccb7d9",
        "colab": {
          "base_uri": "https://localhost:8080/",
          "height": 178
        },
        "outputId": "d6173420-4c0b-479a-a103-a5426d997c3a"
      },
      "outputs": [
        {
          "output_type": "execute_result",
          "data": {
            "text/plain": [
              "0    430\n",
              "1    320\n",
              "2    430\n",
              "Name: duracion, dtype: int64"
            ],
            "text/html": [
              "<div>\n",
              "<style scoped>\n",
              "    .dataframe tbody tr th:only-of-type {\n",
              "        vertical-align: middle;\n",
              "    }\n",
              "\n",
              "    .dataframe tbody tr th {\n",
              "        vertical-align: top;\n",
              "    }\n",
              "\n",
              "    .dataframe thead th {\n",
              "        text-align: right;\n",
              "    }\n",
              "</style>\n",
              "<table border=\"1\" class=\"dataframe\">\n",
              "  <thead>\n",
              "    <tr style=\"text-align: right;\">\n",
              "      <th></th>\n",
              "      <th>duracion</th>\n",
              "    </tr>\n",
              "  </thead>\n",
              "  <tbody>\n",
              "    <tr>\n",
              "      <th>0</th>\n",
              "      <td>430</td>\n",
              "    </tr>\n",
              "    <tr>\n",
              "      <th>1</th>\n",
              "      <td>320</td>\n",
              "    </tr>\n",
              "    <tr>\n",
              "      <th>2</th>\n",
              "      <td>430</td>\n",
              "    </tr>\n",
              "  </tbody>\n",
              "</table>\n",
              "</div><br><label><b>dtype:</b> int64</label>"
            ]
          },
          "metadata": {},
          "execution_count": 13
        }
      ],
      "source": [
        "# Acceder a la columna duracion\n",
        "df['duracion']"
      ]
    },
    {
      "cell_type": "code",
      "execution_count": 14,
      "id": "0a3732eb",
      "metadata": {
        "id": "0a3732eb",
        "colab": {
          "base_uri": "https://localhost:8080/"
        },
        "outputId": "4b9e0443-e573-474a-9e41-222a4ed92a2c"
      },
      "outputs": [
        {
          "output_type": "stream",
          "name": "stdout",
          "text": [
            "393.3333333333333\n"
          ]
        }
      ],
      "source": [
        "# Calcular el promedio de las duraciones\n",
        "pro = df['duracion'].mean()\n",
        "print(pro)"
      ]
    },
    {
      "cell_type": "code",
      "execution_count": 21,
      "id": "bf77fe95",
      "metadata": {
        "id": "bf77fe95",
        "colab": {
          "base_uri": "https://localhost:8080/"
        },
        "outputId": "477cf041-0f32-4dc2-fa13-0d6a31b979d7"
      },
      "outputs": [
        {
          "output_type": "stream",
          "name": "stdout",
          "text": [
            "0    Uptown Funk\n",
            "2     Levitating\n",
            "Name: cancion, dtype: object\n"
          ]
        }
      ],
      "source": [
        "# Obtener los nombres de las canciones que tengan duracion mayor que el promedio\n",
        "Can = df[df['duracion'] > pro]['cancion']\n",
        "print(Can)"
      ]
    },
    {
      "cell_type": "code",
      "execution_count": 23,
      "id": "c4998539",
      "metadata": {
        "id": "c4998539",
        "colab": {
          "base_uri": "https://localhost:8080/"
        },
        "outputId": "66d1aab7-4529-488c-962d-ae91b378e13d"
      },
      "outputs": [
        {
          "output_type": "stream",
          "name": "stdout",
          "text": [
            "           cancion                     artista  duracion  mayor_3\n",
            "0      Uptown Funk  Mark Ronson ft. Bruno Mars       430     True\n",
            "1  Blinding Lights                Shape of You       320     True\n",
            "2       Levitating                    Dua Lipa       430     True\n"
          ]
        }
      ],
      "source": [
        "# Agregar una columna al dataframe que contenga True si la duracion es mayor que 3 minutos\n",
        "# y false si es menor\n",
        "df['mayor_3'] = df['duracion'] > 300\n",
        "print(df)"
      ]
    },
    {
      "cell_type": "code",
      "execution_count": 24,
      "id": "baa74c25",
      "metadata": {
        "id": "baa74c25",
        "colab": {
          "base_uri": "https://localhost:8080/"
        },
        "outputId": "e4545c5f-5f58-4279-c00a-ad3d60279dca"
      },
      "outputs": [
        {
          "output_type": "stream",
          "name": "stdout",
          "text": [
            "[['Uptown Funk' 'Mark Ronson ft. Bruno Mars' 430 True]\n",
            " ['Blinding Lights' 'Shape of You' 320 True]\n",
            " ['Levitating' 'Dua Lipa' 430 True]]\n"
          ]
        }
      ],
      "source": [
        "# Convertir el dataframe a numpy array\n",
        "np = df.to_numpy()\n",
        "print(np)"
      ]
    },
    {
      "cell_type": "code",
      "execution_count": 25,
      "id": "77697675",
      "metadata": {
        "id": "77697675",
        "colab": {
          "base_uri": "https://localhost:8080/"
        },
        "outputId": "d122075c-424d-45c8-ba15-d5489ab0d148"
      },
      "outputs": [
        {
          "output_type": "stream",
          "name": "stdout",
          "text": [
            "(3, 4)\n"
          ]
        }
      ],
      "source": [
        "# Imprimir el shape del array\n",
        "print(np.shape)"
      ]
    },
    {
      "cell_type": "code",
      "execution_count": 27,
      "id": "3caa5fa1",
      "metadata": {
        "id": "3caa5fa1",
        "colab": {
          "base_uri": "https://localhost:8080/"
        },
        "outputId": "257df86e-ffa8-40f7-a395-bd8dec186c56"
      },
      "outputs": [
        {
          "output_type": "stream",
          "name": "stdout",
          "text": [
            "[['Uptown Funk' 'Mark Ronson ft. Bruno Mars' 430 True]\n",
            " ['Blinding Lights' 'Shape of You' 320 True]\n",
            " ['Levitating' 'Dua Lipa' 430 True]]\n"
          ]
        }
      ],
      "source": [
        "# Hacer un reshape para convertir el arreglo de 3x3 a un arreglo de 12 elementos\n",
        "np.reshape(12)\n",
        "print(np)"
      ]
    }
  ],
  "metadata": {
    "kernelspec": {
      "display_name": "entornomp",
      "language": "python",
      "name": "entornomp"
    },
    "language_info": {
      "codemirror_mode": {
        "name": "ipython",
        "version": 3
      },
      "file_extension": ".py",
      "mimetype": "text/x-python",
      "name": "python",
      "nbconvert_exporter": "python",
      "pygments_lexer": "ipython3",
      "version": "3.7.10"
    },
    "colab": {
      "provenance": [],
      "include_colab_link": true
    }
  },
  "nbformat": 4,
  "nbformat_minor": 5
}